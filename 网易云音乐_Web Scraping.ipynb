{
 "cells": [
  {
   "cell_type": "code",
   "execution_count": 1,
   "metadata": {
    "ExecuteTime": {
     "end_time": "2020-07-19T21:30:44.148260Z",
     "start_time": "2020-07-19T21:30:43.116361Z"
    }
   },
   "outputs": [],
   "source": [
    "import pandas as pd\n",
    "import requests\n",
    "from bs4 import BeautifulSoup\n",
    "from pyquery import PyQuery as pq\n",
    "import json\n",
    "import re"
   ]
  },
  {
   "cell_type": "code",
   "execution_count": null,
   "metadata": {},
   "outputs": [],
   "source": [
    "# https://segmentfault.com/a/1190000014948845\n",
    "# https://www.jianshu.com/p/f3764544f6d6\n",
    "# https://cloud.tencent.com/developer/article/1543945\n",
    "\n",
    "# id=19723756，云音乐飙升榜\n",
    "# id=3779629，云音乐新歌榜\n",
    "# id=3778678，云音乐热歌榜\n",
    "# id=2250011882，抖音排行榜\n",
    "# id=5059661515，云音乐民谣榜"
   ]
  },
  {
   "cell_type": "markdown",
   "metadata": {},
   "source": [
    "## User defined functions "
   ]
  },
  {
   "cell_type": "markdown",
   "metadata": {},
   "source": [
    "### webpage capture function"
   ]
  },
  {
   "cell_type": "code",
   "execution_count": 2,
   "metadata": {
    "ExecuteTime": {
     "end_time": "2020-07-19T21:30:47.191507Z",
     "start_time": "2020-07-19T21:30:47.186184Z"
    }
   },
   "outputs": [],
   "source": [
    "headers = {'User-Agent': 'Mozilla/5.0 (Macintosh; Intel Mac OS X 10_13_6) AppleWebKit/537.36 \\\n",
    "                (KHTML, like Gecko) Chrome/68.0.3440.106 Safari/537.36',\n",
    "        'Referer': 'https://music.163.com/',\n",
    "        'Host': 'music.163.com'}\n",
    "\n",
    "def pageCapture(url):\n",
    "    response = requests.get(url,headers=headers)\n",
    "    doc = BeautifulSoup(response.content, 'html.parser')\n",
    "    return doc"
   ]
  },
  {
   "cell_type": "markdown",
   "metadata": {},
   "source": [
    "### get playlist function "
   ]
  },
  {
   "cell_type": "code",
   "execution_count": 3,
   "metadata": {
    "ExecuteTime": {
     "end_time": "2020-07-17T18:11:37.046496Z",
     "start_time": "2020-07-17T18:11:37.015061Z"
    }
   },
   "outputs": [],
   "source": [
    "def getPlaylistInfor(pages, order, cat):\n",
    "    playlst_ids = []\n",
    "    playlst_titles = []\n",
    "    playlst_streams = []\n",
    "    playlst_create_dates = []\n",
    "    playlst_collections = []\n",
    "    playlst_reposts = []\n",
    "    playlst_comments = []\n",
    "    \n",
    "    for page in range(pages):\n",
    "        url=\"http://music.163.com/discover/playlist/?order={}&cat={}&limit=35\\\n",
    "                                &offset={}\".format(order, cat, str(page*35))\n",
    "        #print(url)\n",
    "        response = requests.get(url, headers=headers)\n",
    "        soup = BeautifulSoup(response.text, 'html.parser') \n",
    "        # extract playlist ids and save it to the list\n",
    "        playlst_ids.extend(re.findall(r'playlist\\?id=(\\d+?)\" class=\"msk\"', response.text))\n",
    "        \n",
    "    for idx in playlst_ids:\n",
    "        mainpage = requests.get('http://music.163.com/playlist?id={}'.format(idx), headers=headers)\n",
    "        mainsoup = BeautifulSoup(mainpage.text, 'html.parser') \n",
    "        playlst_title = re.search(r'>(.+?) - 歌单 - 网易云音乐', mainpage.text).group(1)\n",
    "        streams = mainsoup.select('strong#play-count.s-fc6')[0].get_text().strip()\n",
    "        playlst_create_date = mainsoup.select('span.time.s-fc4')[0].get_text().strip()[0:10]\n",
    "        playlst_collection = re.search(r'data-count=\"(\\d+?)\"', \n",
    "                                       str(mainsoup.select('a.u-btni.u-btni-fav'))).group(1)\n",
    "        playlst_repost = re.search(r'data-count=\"(\\d+?)\"', \n",
    "                                       str(mainsoup.select('a.u-btni.u-btni-share'))).group(1)\n",
    "        playlst_comment = mainsoup.select('span#cnt_comment_count')[0].get_text().strip()\n",
    "        \n",
    "        playlst_titles.append(playlst_title)\n",
    "        playlst_streams.append(streams)\n",
    "        playlst_create_dates.append(playlst_create_date)\n",
    "        playlst_collections.append(playlst_collection)\n",
    "        playlst_reposts.append(playlst_repost)\n",
    "        playlst_comments.append(playlst_comment)\n",
    "\n",
    "    df_playlist = pd.DataFrame(data=list(zip(playlst_ids, playlst_titles, playlst_streams, \n",
    "                                             playlst_create_dates, playlst_collections, playlst_reposts, \n",
    "                                             playlst_comments)),\n",
    "                              columns = [\"playlstID\", \"playlstTitle\", \"playlstStream\", \n",
    "                                          \"playlstCreateDate\", \"playlstCollections\", \"playlstReposts\", \n",
    "                                          \"playlstComments\"])\n",
    "    return df_playlist"
   ]
  },
  {
   "cell_type": "code",
   "execution_count": 3,
   "metadata": {
    "ExecuteTime": {
     "end_time": "2020-07-19T21:25:31.432772Z",
     "start_time": "2020-07-19T21:25:31.419424Z"
    }
   },
   "outputs": [],
   "source": [
    "def getTrendingSongsInfor(playlistid):\n",
    "    song_ids = []\n",
    "    song_titles = []\n",
    "    artists = []\n",
    "    albums = []\n",
    "    song_types = []\n",
    "    publishtime = []\n",
    "    companies = []\n",
    "    \n",
    "    url = 'https://music.163.com/api/playlist/detail?id={}'.format(playlistid)\n",
    "    json_dict = json.loads(str(pageCapture(url)))\n",
    "    songs = json_dict['result']['tracks']\n",
    "    for i in range(len(songs)):\n",
    "        song_id = songs[i]['id']\n",
    "        song_title = songs[i]['name']\n",
    "        artist = songs[i]['artists'][0]['name']\n",
    "        album = songs[i]['album']['name']\n",
    "        song_type = songs[i]['album']['subType']\n",
    "        time = songs[i]['album']['publishTime']\n",
    "        company = songs[i]['album']['company']\n",
    "    \n",
    "        song_ids.append(song_id)\n",
    "        song_titles.append(song_title)\n",
    "        artists.append(artist)\n",
    "        albums.append(album)\n",
    "        song_types.append(song_type)\n",
    "        publishtime.append(time)\n",
    "        companies.append(company)\n",
    "\n",
    "    df_trending_songs = pd.DataFrame(data=list(zip(song_ids, song_titles, artists, albums, song_types,\n",
    "                                                  publishtime, companies)),\n",
    "                              columns = [\"songID\", \"songTitle\", \"artists\", \"albums\", \"songType\",\n",
    "                                        \"publishTime\", \"company\"])\n",
    "    return df_trending_songs"
   ]
  },
  {
   "cell_type": "markdown",
   "metadata": {},
   "source": [
    "### get song function "
   ]
  },
  {
   "cell_type": "code",
   "execution_count": 4,
   "metadata": {
    "ExecuteTime": {
     "end_time": "2020-07-19T21:20:18.154339Z",
     "start_time": "2020-07-19T21:20:18.146482Z"
    }
   },
   "outputs": [],
   "source": [
    "def getSongs(playlst_id):\n",
    "    response = requests.get('http://music.163.com/playlist?id={}'.format(playlst_id), headers=headers)\n",
    "    soup = BeautifulSoup(response.text, 'html.parser') \n",
    "    songID = re.findall(r'song\\?id=(\\d+?)\".+?</a>', response.text)\n",
    "    songTitle = re.findall(r'song\\?id=\\d+?\">(.+?)</a>', response.text)\n",
    "    \n",
    "    artists = []\n",
    "    albums = []\n",
    "    \n",
    "    for idx in songID:\n",
    "        songInfor = \"http://music.163.com/api/song/detail/?id={}&ids=%5B{}%5D\".format(idx, idx)\n",
    "        try: \n",
    "            songSoup = json.loads(str(pageCapture(songInfor)))\n",
    "            artist = songSoup['songs'][0]['artists'][0]['name']\n",
    "            album = songSoup['songs'][0]['album']['name']\n",
    "        except: \n",
    "            artist = None\n",
    "            album = None\n",
    "            continue\n",
    "            \n",
    "        artists.append(artist)\n",
    "        albums.append(album)\n",
    "    df_songs = pd.DataFrame(data=list(zip([playlst_id]*len(songID), songID, \n",
    "                                              songTitle, artists, albums)), \n",
    "                               columns = [\"playlstID\", \"songID\", \"songTitle\", \"artists\", \"albums\"])\n",
    "    \n",
    "    return df_songs"
   ]
  },
  {
   "cell_type": "markdown",
   "metadata": {},
   "source": [
    "### get comment function "
   ]
  },
  {
   "cell_type": "code",
   "execution_count": 5,
   "metadata": {
    "ExecuteTime": {
     "end_time": "2020-07-17T18:11:44.209620Z",
     "start_time": "2020-07-17T18:11:44.195463Z"
    }
   },
   "outputs": [],
   "source": [
    "def getComments(songid, pages):\n",
    "    userID = []\n",
    "    userName = []\n",
    "    commentID = []\n",
    "    comments = []\n",
    "    commentDateTime = []\n",
    "    commentLike = []\n",
    "    \n",
    "    for page in range(pages):\n",
    "        try:\n",
    "            url=\"http://music.163.com/api/v1/resource/comments/R_SO_4_{}?\\\n",
    "                    limit=50&offset={}\".format(songid, str(page*50))\n",
    "            response = requests.get(url, headers=headers)\n",
    "            doc = BeautifulSoup(response.content, 'html.parser')\n",
    "            json_dict = json.loads(str(doc))\n",
    "            for i in range(len(json_dict['hotComments'])):\n",
    "                try: \n",
    "                    userid = json_dict['hotComments'][i]['user']['userId']\n",
    "                    username = json_dict['hotComments'][i]['user']['nickname']\n",
    "                    commentid = json_dict['hotComments'][i]['commentId']\n",
    "                    comment = json_dict['hotComments'][i]['content']\n",
    "                    comment_datetime = json_dict['hotComments'][i]['time']\n",
    "                    comment_likes = json_dict['hotComments'][i]['likedCount']\n",
    "                except: \n",
    "                    userid = None\n",
    "                    username = None\n",
    "                    commentid = None\n",
    "                    comment = None\n",
    "                    comment_datetime = None\n",
    "                    comment_likes = None\n",
    "                    continue\n",
    "\n",
    "                userID.append(userid)\n",
    "                userName.append(username)\n",
    "                commentID.append(commentid)\n",
    "                comments.append(comment)\n",
    "                commentDateTime.append(comment_datetime)\n",
    "                commentLike.append(comment_likes)\n",
    "            \n",
    "        except:\n",
    "            continue\n",
    "            \n",
    "    df_comment = pd.DataFrame(data = list(zip([songid]*len(userID), userID, userName, commentID, \n",
    "                                        comments, commentDateTime, commentLike)), \n",
    "                            columns = ['songID', \"userID\", \"userName\", \"commentID\", \"comments\", \n",
    "                                                     \"commentDateTime\", \"commentLike\"])\n",
    " \n",
    "    return df_comment"
   ]
  },
  {
   "cell_type": "markdown",
   "metadata": {},
   "source": [
    "### get user profile "
   ]
  },
  {
   "cell_type": "code",
   "execution_count": 6,
   "metadata": {
    "ExecuteTime": {
     "end_time": "2020-07-17T18:11:47.207558Z",
     "start_time": "2020-07-17T18:11:47.199853Z"
    }
   },
   "outputs": [],
   "source": [
    "def userInfor(userid):\n",
    "    url = \"https://music.163.com/api/v1/user/detail/{}\".format(userid)\n",
    "    try:\n",
    "        response = requests.get(url, headers=headers)\n",
    "        doc = BeautifulSoup(response.content, 'html.parser')\n",
    "        json_dict = json.loads(str(doc))\n",
    "        \n",
    "        userLevel = json_dict['level']\n",
    "        listenSongs = json_dict['listenSongs']\n",
    "        followeds = json_dict['profile']['followeds']\n",
    "        follows = json_dict['profile']['follows']\n",
    "        gender = json_dict['profile']['gender']\n",
    "        province = json_dict['profile']['province']\n",
    "        city = json_dict['profile']['city']\n",
    "        \n",
    "        userInfor = [userid, userLevel, listenSongs, followeds, follows, gender, \n",
    "                                        province, city]\n",
    "    except:\n",
    "        print('page error ', errorids)\n",
    "        userInfor = None\n",
    "    \n",
    "    return userInfor"
   ]
  },
  {
   "cell_type": "markdown",
   "metadata": {},
   "source": [
    "## Data collection - web scraping"
   ]
  },
  {
   "cell_type": "markdown",
   "metadata": {},
   "source": [
    "### Chinese Songs 华语歌单 "
   ]
  },
  {
   "cell_type": "code",
   "execution_count": 7,
   "metadata": {
    "ExecuteTime": {
     "end_time": "2020-07-17T00:28:17.975199Z",
     "start_time": "2020-07-17T00:06:26.147096Z"
    }
   },
   "outputs": [
    {
     "data": {
      "text/html": [
       "<div>\n",
       "<style scoped>\n",
       "    .dataframe tbody tr th:only-of-type {\n",
       "        vertical-align: middle;\n",
       "    }\n",
       "\n",
       "    .dataframe tbody tr th {\n",
       "        vertical-align: top;\n",
       "    }\n",
       "\n",
       "    .dataframe thead th {\n",
       "        text-align: right;\n",
       "    }\n",
       "</style>\n",
       "<table border=\"1\" class=\"dataframe\">\n",
       "  <thead>\n",
       "    <tr style=\"text-align: right;\">\n",
       "      <th></th>\n",
       "      <th>playlstID</th>\n",
       "      <th>playlstTitle</th>\n",
       "      <th>playlstStream</th>\n",
       "      <th>playlstCreateDate</th>\n",
       "      <th>playlstCollections</th>\n",
       "      <th>playlstReposts</th>\n",
       "      <th>playlstComments</th>\n",
       "    </tr>\n",
       "  </thead>\n",
       "  <tbody>\n",
       "    <tr>\n",
       "      <td>0</td>\n",
       "      <td>2829883282</td>\n",
       "      <td>[华语私人订制] 最懂你的华语推荐 每日更新35首</td>\n",
       "      <td>359956960</td>\n",
       "      <td>2019-06-05</td>\n",
       "      <td>3018942</td>\n",
       "      <td>14389</td>\n",
       "      <td>36412</td>\n",
       "    </tr>\n",
       "    <tr>\n",
       "      <td>1</td>\n",
       "      <td>5035498001</td>\n",
       "      <td>拜拜上半年的不顺，下半年愿你苦尽甘来</td>\n",
       "      <td>228831</td>\n",
       "      <td>2020-05-26</td>\n",
       "      <td>882</td>\n",
       "      <td>91</td>\n",
       "      <td>13</td>\n",
       "    </tr>\n",
       "    <tr>\n",
       "      <td>2</td>\n",
       "      <td>2909007895</td>\n",
       "      <td>刷题背书写作业轻音乐（致正在努力的你）</td>\n",
       "      <td>275896</td>\n",
       "      <td>2019-07-31</td>\n",
       "      <td>7706</td>\n",
       "      <td>50</td>\n",
       "      <td>160</td>\n",
       "    </tr>\n",
       "    <tr>\n",
       "      <td>3</td>\n",
       "      <td>3134064854</td>\n",
       "      <td>网易云比你懂我</td>\n",
       "      <td>3686969</td>\n",
       "      <td>2019-12-24</td>\n",
       "      <td>45285</td>\n",
       "      <td>250</td>\n",
       "      <td>666</td>\n",
       "    </tr>\n",
       "    <tr>\n",
       "      <td>4</td>\n",
       "      <td>2618915549</td>\n",
       "      <td>你搜不到的土嗨神曲</td>\n",
       "      <td>61153232</td>\n",
       "      <td>2019-01-11</td>\n",
       "      <td>1264625</td>\n",
       "      <td>10083</td>\n",
       "      <td>3154</td>\n",
       "    </tr>\n",
       "  </tbody>\n",
       "</table>\n",
       "</div>"
      ],
      "text/plain": [
       "    playlstID               playlstTitle playlstStream playlstCreateDate  \\\n",
       "0  2829883282  [华语私人订制] 最懂你的华语推荐 每日更新35首     359956960        2019-06-05   \n",
       "1  5035498001         拜拜上半年的不顺，下半年愿你苦尽甘来        228831        2020-05-26   \n",
       "2  2909007895        刷题背书写作业轻音乐（致正在努力的你）        275896        2019-07-31   \n",
       "3  3134064854                    网易云比你懂我       3686969        2019-12-24   \n",
       "4  2618915549                  你搜不到的土嗨神曲      61153232        2019-01-11   \n",
       "\n",
       "  playlstCollections playlstReposts playlstComments  \n",
       "0            3018942          14389           36412  \n",
       "1                882             91              13  \n",
       "2               7706             50             160  \n",
       "3              45285            250             666  \n",
       "4            1264625          10083            3154  "
      ]
     },
     "execution_count": 7,
     "metadata": {},
     "output_type": "execute_result"
    }
   ],
   "source": [
    "ChineseSonglists = getPlaylistInfor(20, \"hot\", \"%E5%8D%8E%E8%AF%AD\")\n",
    "ChineseSonglists.head()"
   ]
  },
  {
   "cell_type": "code",
   "execution_count": 7,
   "metadata": {
    "ExecuteTime": {
     "end_time": "2020-07-17T01:51:54.655165Z",
     "start_time": "2020-07-17T01:51:54.523823Z"
    }
   },
   "outputs": [
    {
     "data": {
      "text/plain": [
       "(700, 7)"
      ]
     },
     "execution_count": 7,
     "metadata": {},
     "output_type": "execute_result"
    }
   ],
   "source": [
    "ChineseSonglists.shape"
   ]
  },
  {
   "cell_type": "code",
   "execution_count": null,
   "metadata": {},
   "outputs": [],
   "source": [
    "ChineseSonglists.to_excel(\"ChineseSonglists华语歌单.xlsx\", index=False)"
   ]
  },
  {
   "cell_type": "code",
   "execution_count": 9,
   "metadata": {
    "ExecuteTime": {
     "end_time": "2020-07-17T02:27:25.987503Z",
     "start_time": "2020-07-17T01:52:10.889131Z"
    }
   },
   "outputs": [
    {
     "name": "stdout",
     "output_type": "stream",
     "text": [
      "(6999, 5)\n"
     ]
    },
    {
     "data": {
      "text/html": [
       "<div>\n",
       "<style scoped>\n",
       "    .dataframe tbody tr th:only-of-type {\n",
       "        vertical-align: middle;\n",
       "    }\n",
       "\n",
       "    .dataframe tbody tr th {\n",
       "        vertical-align: top;\n",
       "    }\n",
       "\n",
       "    .dataframe thead th {\n",
       "        text-align: right;\n",
       "    }\n",
       "</style>\n",
       "<table border=\"1\" class=\"dataframe\">\n",
       "  <thead>\n",
       "    <tr style=\"text-align: right;\">\n",
       "      <th></th>\n",
       "      <th>playlstID</th>\n",
       "      <th>songID</th>\n",
       "      <th>songTitle</th>\n",
       "      <th>artists</th>\n",
       "      <th>albums</th>\n",
       "    </tr>\n",
       "  </thead>\n",
       "  <tbody>\n",
       "    <tr>\n",
       "      <td>0</td>\n",
       "      <td>2829883282</td>\n",
       "      <td>1318234987</td>\n",
       "      <td>贝贝</td>\n",
       "      <td>李荣浩</td>\n",
       "      <td>耳朵</td>\n",
       "    </tr>\n",
       "    <tr>\n",
       "      <td>1</td>\n",
       "      <td>2829883282</td>\n",
       "      <td>167696</td>\n",
       "      <td>火烧的寂寞</td>\n",
       "      <td>信</td>\n",
       "      <td>趁我</td>\n",
       "    </tr>\n",
       "    <tr>\n",
       "      <td>2</td>\n",
       "      <td>2829883282</td>\n",
       "      <td>1425886269</td>\n",
       "      <td>听到就爱上的二十秒即兴</td>\n",
       "      <td>特污兔</td>\n",
       "      <td>听到就爱上的二十秒即兴</td>\n",
       "    </tr>\n",
       "    <tr>\n",
       "      <td>3</td>\n",
       "      <td>2829883282</td>\n",
       "      <td>66282</td>\n",
       "      <td>浮夸</td>\n",
       "      <td>陈奕迅</td>\n",
       "      <td>U-87</td>\n",
       "    </tr>\n",
       "    <tr>\n",
       "      <td>4</td>\n",
       "      <td>2829883282</td>\n",
       "      <td>150361</td>\n",
       "      <td>三国恋</td>\n",
       "      <td>Tank</td>\n",
       "      <td>Fighting!生存之道</td>\n",
       "    </tr>\n",
       "  </tbody>\n",
       "</table>\n",
       "</div>"
      ],
      "text/plain": [
       "    playlstID      songID    songTitle artists         albums\n",
       "0  2829883282  1318234987           贝贝     李荣浩             耳朵\n",
       "1  2829883282      167696        火烧的寂寞       信             趁我\n",
       "2  2829883282  1425886269  听到就爱上的二十秒即兴     特污兔    听到就爱上的二十秒即兴\n",
       "3  2829883282       66282           浮夸     陈奕迅           U-87\n",
       "4  2829883282      150361          三国恋    Tank  Fighting!生存之道"
      ]
     },
     "execution_count": 9,
     "metadata": {},
     "output_type": "execute_result"
    }
   ],
   "source": [
    "df_songs = pd.DataFrame([])\n",
    "# index = np.where(ChineseSonglists.playlstID.values == 3080106226)\n",
    "# for i in ChineseSonglists.playlstID.values[index[0][0]+1:]:\n",
    "\n",
    "for i in ChineseSonglists.playlstID.values:\n",
    "    df_songs = pd.concat([df_songs, getSongs(i)], axis=0)\n",
    "    \n",
    "print(df_songs.shape)\n",
    "df_songs.head()"
   ]
  },
  {
   "cell_type": "code",
   "execution_count": 10,
   "metadata": {
    "ExecuteTime": {
     "end_time": "2020-07-17T02:28:34.021111Z",
     "start_time": "2020-07-17T02:28:32.630436Z"
    }
   },
   "outputs": [],
   "source": [
    "df_songs.to_excel(\"df_songs.xlsx\", index=False)"
   ]
  },
  {
   "cell_type": "code",
   "execution_count": 7,
   "metadata": {
    "ExecuteTime": {
     "end_time": "2020-07-18T05:54:11.909144Z",
     "start_time": "2020-07-17T18:11:51.583180Z"
    },
    "scrolled": true
   },
   "outputs": [
    {
     "name": "stdout",
     "output_type": "stream",
     "text": [
      "(89404, 7)\n"
     ]
    },
    {
     "data": {
      "text/html": [
       "<div>\n",
       "<style scoped>\n",
       "    .dataframe tbody tr th:only-of-type {\n",
       "        vertical-align: middle;\n",
       "    }\n",
       "\n",
       "    .dataframe tbody tr th {\n",
       "        vertical-align: top;\n",
       "    }\n",
       "\n",
       "    .dataframe thead th {\n",
       "        text-align: right;\n",
       "    }\n",
       "</style>\n",
       "<table border=\"1\" class=\"dataframe\">\n",
       "  <thead>\n",
       "    <tr style=\"text-align: right;\">\n",
       "      <th></th>\n",
       "      <th>songID</th>\n",
       "      <th>userID</th>\n",
       "      <th>userName</th>\n",
       "      <th>commentID</th>\n",
       "      <th>comments</th>\n",
       "      <th>commentDateTime</th>\n",
       "      <th>commentLike</th>\n",
       "    </tr>\n",
       "  </thead>\n",
       "  <tbody>\n",
       "    <tr>\n",
       "      <td>0</td>\n",
       "      <td>1318234987</td>\n",
       "      <td>368558326</td>\n",
       "      <td>大米思蜜达</td>\n",
       "      <td>1274553078</td>\n",
       "      <td>当你看完这条评论的时候，你已经在听下一首歌了</td>\n",
       "      <td>1539707347260</td>\n",
       "      <td>752273</td>\n",
       "    </tr>\n",
       "    <tr>\n",
       "      <td>1</td>\n",
       "      <td>1318234987</td>\n",
       "      <td>260139318</td>\n",
       "      <td>假若我年少有为</td>\n",
       "      <td>1274602859</td>\n",
       "      <td>虽然只有短短的四秒，但是却展现了李荣浩高超的作词及作曲能力，戛然而止，而意犹未尽，让人浮想联...</td>\n",
       "      <td>1539710970774</td>\n",
       "      <td>498506</td>\n",
       "    </tr>\n",
       "    <tr>\n",
       "      <td>2</td>\n",
       "      <td>1318234987</td>\n",
       "      <td>622891340</td>\n",
       "      <td>亲爱的巴恩斯中士</td>\n",
       "      <td>1274703747</td>\n",
       "      <td>眼睛不大，胆子不小[大哭]</td>\n",
       "      <td>1539738634623</td>\n",
       "      <td>449685</td>\n",
       "    </tr>\n",
       "    <tr>\n",
       "      <td>3</td>\n",
       "      <td>1318234987</td>\n",
       "      <td>103645133</td>\n",
       "      <td>在与枕头的婚礼中入睡</td>\n",
       "      <td>1274709846</td>\n",
       "      <td>周杰伦：能不能给我一首歌的时间\\n李荣浩：给你一首《贝贝》</td>\n",
       "      <td>1539740602675</td>\n",
       "      <td>375818</td>\n",
       "    </tr>\n",
       "    <tr>\n",
       "      <td>4</td>\n",
       "      <td>1318234987</td>\n",
       "      <td>415034968</td>\n",
       "      <td>松岛阿森</td>\n",
       "      <td>1274666303</td>\n",
       "      <td>请李先生尊重一下2G网用户\\n缓冲一分钟就一句拜拜？？[大笑]</td>\n",
       "      <td>1539736736859</td>\n",
       "      <td>349181</td>\n",
       "    </tr>\n",
       "  </tbody>\n",
       "</table>\n",
       "</div>"
      ],
      "text/plain": [
       "       songID     userID    userName   commentID  \\\n",
       "0  1318234987  368558326       大米思蜜达  1274553078   \n",
       "1  1318234987  260139318     假若我年少有为  1274602859   \n",
       "2  1318234987  622891340    亲爱的巴恩斯中士  1274703747   \n",
       "3  1318234987  103645133  在与枕头的婚礼中入睡  1274709846   \n",
       "4  1318234987  415034968        松岛阿森  1274666303   \n",
       "\n",
       "                                            comments commentDateTime  \\\n",
       "0                             当你看完这条评论的时候，你已经在听下一首歌了   1539707347260   \n",
       "1  虽然只有短短的四秒，但是却展现了李荣浩高超的作词及作曲能力，戛然而止，而意犹未尽，让人浮想联...   1539710970774   \n",
       "2                                      眼睛不大，胆子不小[大哭]   1539738634623   \n",
       "3                      周杰伦：能不能给我一首歌的时间\\n李荣浩：给你一首《贝贝》   1539740602675   \n",
       "4                    请李先生尊重一下2G网用户\\n缓冲一分钟就一句拜拜？？[大笑]   1539736736859   \n",
       "\n",
       "  commentLike  \n",
       "0      752273  \n",
       "1      498506  \n",
       "2      449685  \n",
       "3      375818  \n",
       "4      349181  "
      ]
     },
     "execution_count": 7,
     "metadata": {},
     "output_type": "execute_result"
    }
   ],
   "source": [
    "df_comment = pd.DataFrame([])\n",
    "\n",
    "for i in df_songs.songID.values:\n",
    "    df_comment = pd.concat([df_comment, getComments(i, 10)], axis=0)\n",
    "    \n",
    "print(df_comment.shape)\n",
    "df_comment.head()"
   ]
  },
  {
   "cell_type": "code",
   "execution_count": 8,
   "metadata": {
    "ExecuteTime": {
     "end_time": "2020-07-18T06:05:49.734573Z",
     "start_time": "2020-07-18T06:05:37.555440Z"
    }
   },
   "outputs": [],
   "source": [
    "df_comment.to_excel(\"df_comment.xlsx\", index=False)"
   ]
  },
  {
   "cell_type": "code",
   "execution_count": null,
   "metadata": {
    "ExecuteTime": {
     "end_time": "2020-07-19T20:18:27.203930Z",
     "start_time": "2020-07-19T05:09:56.236525Z"
    }
   },
   "outputs": [],
   "source": [
    "users = []\n",
    "for i in list(set(df_comment.userID.values)):\n",
    "    try:\n",
    "        users.append(userInfor(i))\n",
    "    except: \n",
    "        continue\n",
    "\n",
    "# page error  [1644563139]\n",
    "# page error  [1950356667]\n",
    "# page error  [1644566105]\n",
    "# page error  [510404522]\n",
    "# page error  [1644577261]\n",
    "# page error  [1893752281]\n",
    "# page error  [516321657]\n",
    "# page error  [1894286550]\n",
    "# page error  [1929419306]\n",
    "# page error  [1321384722]\n",
    "# page error  [1522449851]\n",
    "# page error  [9753203]\n",
    "# page error  [38987663]\n",
    "# page error  [582543308]\n",
    "# page error  [1894313543]\n",
    "# page error  [251851501]\n",
    "# page error  [1894316508]\n",
    "# page error  [1894316531]\n",
    "# page error  [291704061]\n",
    "# page error  [1650007669]\n",
    "# page error  [1644505911]\n",
    "# page error  [1641632295]\n",
    "# page error  [1719236828]\n",
    "# page error  [1893706841]\n",
    "# page error  [628339165]\n",
    "# page error  [1893322967]\n",
    "# page error  [1636946197]\n",
    "# page error  [1923469918]\n",
    "# page error  [113628079]\n",
    "# page error  [1893719852]\n",
    "# page error  [1893719853]\n",
    "# page error  [1315300598]\n",
    "# page error  [1644555133]\n",
    "# page error  [486274606]\n",
    "# page error  [124123185]\n",
    "# page error  [1894251701]"
   ]
  },
  {
   "cell_type": "code",
   "execution_count": 12,
   "metadata": {
    "ExecuteTime": {
     "end_time": "2020-07-19T20:27:34.088613Z",
     "start_time": "2020-07-19T20:27:33.869624Z"
    }
   },
   "outputs": [
    {
     "name": "stdout",
     "output_type": "stream",
     "text": [
      "(48127, 8)\n"
     ]
    },
    {
     "data": {
      "text/html": [
       "<div>\n",
       "<style scoped>\n",
       "    .dataframe tbody tr th:only-of-type {\n",
       "        vertical-align: middle;\n",
       "    }\n",
       "\n",
       "    .dataframe tbody tr th {\n",
       "        vertical-align: top;\n",
       "    }\n",
       "\n",
       "    .dataframe thead th {\n",
       "        text-align: right;\n",
       "    }\n",
       "</style>\n",
       "<table border=\"1\" class=\"dataframe\">\n",
       "  <thead>\n",
       "    <tr style=\"text-align: right;\">\n",
       "      <th></th>\n",
       "      <th>userID</th>\n",
       "      <th>userLevel</th>\n",
       "      <th>listenSongs</th>\n",
       "      <th>followeds</th>\n",
       "      <th>follows</th>\n",
       "      <th>gender</th>\n",
       "      <th>province</th>\n",
       "      <th>city</th>\n",
       "    </tr>\n",
       "  </thead>\n",
       "  <tbody>\n",
       "    <tr>\n",
       "      <td>0</td>\n",
       "      <td>1</td>\n",
       "      <td>9</td>\n",
       "      <td>14564</td>\n",
       "      <td>99999</td>\n",
       "      <td>456</td>\n",
       "      <td>1</td>\n",
       "      <td>110000</td>\n",
       "      <td>110101</td>\n",
       "    </tr>\n",
       "    <tr>\n",
       "      <td>1</td>\n",
       "      <td>1365770243</td>\n",
       "      <td>6</td>\n",
       "      <td>607</td>\n",
       "      <td>94</td>\n",
       "      <td>21</td>\n",
       "      <td>0</td>\n",
       "      <td>0</td>\n",
       "      <td>100</td>\n",
       "    </tr>\n",
       "    <tr>\n",
       "      <td>2</td>\n",
       "      <td>1334181892</td>\n",
       "      <td>6</td>\n",
       "      <td>973</td>\n",
       "      <td>3</td>\n",
       "      <td>9</td>\n",
       "      <td>1</td>\n",
       "      <td>0</td>\n",
       "      <td>100</td>\n",
       "    </tr>\n",
       "    <tr>\n",
       "      <td>3</td>\n",
       "      <td>1809842188</td>\n",
       "      <td>8</td>\n",
       "      <td>9766</td>\n",
       "      <td>4196</td>\n",
       "      <td>52</td>\n",
       "      <td>1</td>\n",
       "      <td>0</td>\n",
       "      <td>100</td>\n",
       "    </tr>\n",
       "    <tr>\n",
       "      <td>4</td>\n",
       "      <td>40370188</td>\n",
       "      <td>9</td>\n",
       "      <td>10426</td>\n",
       "      <td>22</td>\n",
       "      <td>4</td>\n",
       "      <td>1</td>\n",
       "      <td>0</td>\n",
       "      <td>100</td>\n",
       "    </tr>\n",
       "  </tbody>\n",
       "</table>\n",
       "</div>"
      ],
      "text/plain": [
       "       userID  userLevel  listenSongs  followeds  follows  gender  province  \\\n",
       "0           1          9        14564      99999      456       1    110000   \n",
       "1  1365770243          6          607         94       21       0         0   \n",
       "2  1334181892          6          973          3        9       1         0   \n",
       "3  1809842188          8         9766       4196       52       1         0   \n",
       "4    40370188          9        10426         22        4       1         0   \n",
       "\n",
       "     city  \n",
       "0  110101  \n",
       "1     100  \n",
       "2     100  \n",
       "3     100  \n",
       "4     100  "
      ]
     },
     "execution_count": 12,
     "metadata": {},
     "output_type": "execute_result"
    }
   ],
   "source": [
    "userprofile = []\n",
    "for i in users:\n",
    "    if i!=None:\n",
    "        userprofile.append(i)\n",
    "        \n",
    "df_user = pd.DataFrame(data=userprofile, \n",
    "                       columns = [\"userID\", \"userLevel\", \"listenSongs\", \"followeds\", \"follows\", \n",
    "                                    'gender', 'province', 'city'])\n",
    "print(df_user.shape)\n",
    "df_user.head()"
   ]
  },
  {
   "cell_type": "code",
   "execution_count": 13,
   "metadata": {
    "ExecuteTime": {
     "end_time": "2020-07-19T20:28:14.352935Z",
     "start_time": "2020-07-19T20:28:08.128613Z"
    }
   },
   "outputs": [],
   "source": [
    "df_user.to_excel(\"df_user.xlsx\", index=False)"
   ]
  },
  {
   "cell_type": "markdown",
   "metadata": {},
   "source": [
    "### 云音乐飙升榜"
   ]
  },
  {
   "cell_type": "code",
   "execution_count": 4,
   "metadata": {
    "ExecuteTime": {
     "end_time": "2020-07-19T21:25:44.108586Z",
     "start_time": "2020-07-19T21:25:41.221569Z"
    }
   },
   "outputs": [
    {
     "name": "stdout",
     "output_type": "stream",
     "text": [
      "(100, 7)\n"
     ]
    },
    {
     "data": {
      "text/html": [
       "<div>\n",
       "<style scoped>\n",
       "    .dataframe tbody tr th:only-of-type {\n",
       "        vertical-align: middle;\n",
       "    }\n",
       "\n",
       "    .dataframe tbody tr th {\n",
       "        vertical-align: top;\n",
       "    }\n",
       "\n",
       "    .dataframe thead th {\n",
       "        text-align: right;\n",
       "    }\n",
       "</style>\n",
       "<table border=\"1\" class=\"dataframe\">\n",
       "  <thead>\n",
       "    <tr style=\"text-align: right;\">\n",
       "      <th></th>\n",
       "      <th>songID</th>\n",
       "      <th>songTitle</th>\n",
       "      <th>artists</th>\n",
       "      <th>albums</th>\n",
       "      <th>songType</th>\n",
       "      <th>publishTime</th>\n",
       "      <th>company</th>\n",
       "    </tr>\n",
       "  </thead>\n",
       "  <tbody>\n",
       "    <tr>\n",
       "      <td>0</td>\n",
       "      <td>1463349975</td>\n",
       "      <td>烟花易冷 (live)</td>\n",
       "      <td>周深</td>\n",
       "      <td>流淌的歌声 第二季 第4期</td>\n",
       "      <td>现场版</td>\n",
       "      <td>1594915200000</td>\n",
       "      <td>广东卫视</td>\n",
       "    </tr>\n",
       "    <tr>\n",
       "      <td>1</td>\n",
       "      <td>1463362956</td>\n",
       "      <td>成全</td>\n",
       "      <td>买辣椒也用券</td>\n",
       "      <td>成全</td>\n",
       "      <td>录音室版</td>\n",
       "      <td>1595001600000</td>\n",
       "      <td>智慧大狗 × 网易云音乐</td>\n",
       "    </tr>\n",
       "    <tr>\n",
       "      <td>2</td>\n",
       "      <td>1456286877</td>\n",
       "      <td>爱，存在</td>\n",
       "      <td>旺仔小乔</td>\n",
       "      <td>爱，存在（正式版）</td>\n",
       "      <td></td>\n",
       "      <td>1595001600000</td>\n",
       "      <td></td>\n",
       "    </tr>\n",
       "    <tr>\n",
       "      <td>3</td>\n",
       "      <td>1460682363</td>\n",
       "      <td>爱，存在</td>\n",
       "      <td>卢卢快闭嘴</td>\n",
       "      <td>爱，存在</td>\n",
       "      <td>录音室版</td>\n",
       "      <td>1593964800000</td>\n",
       "      <td>中视鸣达</td>\n",
       "    </tr>\n",
       "    <tr>\n",
       "      <td>4</td>\n",
       "      <td>1450574147</td>\n",
       "      <td>情人</td>\n",
       "      <td>蔡徐坤</td>\n",
       "      <td>情人</td>\n",
       "      <td>录音室版</td>\n",
       "      <td>1590249600000</td>\n",
       "      <td>上海圣臻文化发展有限公司</td>\n",
       "    </tr>\n",
       "  </tbody>\n",
       "</table>\n",
       "</div>"
      ],
      "text/plain": [
       "       songID    songTitle artists         albums songType    publishTime  \\\n",
       "0  1463349975  烟花易冷 (live)      周深  流淌的歌声 第二季 第4期      现场版  1594915200000   \n",
       "1  1463362956           成全  买辣椒也用券             成全     录音室版  1595001600000   \n",
       "2  1456286877         爱，存在    旺仔小乔      爱，存在（正式版）           1595001600000   \n",
       "3  1460682363         爱，存在   卢卢快闭嘴           爱，存在     录音室版  1593964800000   \n",
       "4  1450574147           情人     蔡徐坤             情人     录音室版  1590249600000   \n",
       "\n",
       "        company  \n",
       "0          广东卫视  \n",
       "1  智慧大狗 × 网易云音乐  \n",
       "2                \n",
       "3          中视鸣达  \n",
       "4  上海圣臻文化发展有限公司  "
      ]
     },
     "execution_count": 4,
     "metadata": {},
     "output_type": "execute_result"
    }
   ],
   "source": [
    "TrendingSongs = getTrendingSongsInfor(19723756)\n",
    "print(TrendingSongs.shape)\n",
    "TrendingSongs.head()"
   ]
  },
  {
   "cell_type": "code",
   "execution_count": 5,
   "metadata": {
    "ExecuteTime": {
     "end_time": "2020-07-19T21:26:27.073947Z",
     "start_time": "2020-07-19T21:26:26.991390Z"
    }
   },
   "outputs": [],
   "source": [
    "TrendingSongs.to_excel(\"TrendingSongs_20200719.xlsx\", index=False)"
   ]
  },
  {
   "cell_type": "code",
   "execution_count": null,
   "metadata": {
    "ExecuteTime": {
     "start_time": "2020-07-19T21:33:59.390Z"
    }
   },
   "outputs": [],
   "source": [
    "TrendingSongs = pd.read_excel(\"TrendingSongs_20200719.xlsx\")\n",
    "\n",
    "df_trending_comment = pd.DataFrame([])\n",
    "\n",
    "for i in list(set(TrendingSongs.songID.values)):\n",
    "    df_trending_comment = pd.concat([df_trending_comment, getComments(i, 100)], axis=0)\n",
    "    \n",
    "print(df_trending_comment.shape)\n",
    "df_trending_comment.head()"
   ]
  },
  {
   "cell_type": "code",
   "execution_count": null,
   "metadata": {},
   "outputs": [],
   "source": []
  }
 ],
 "metadata": {
  "kernelspec": {
   "display_name": "Python 3",
   "language": "python",
   "name": "python3"
  },
  "language_info": {
   "codemirror_mode": {
    "name": "ipython",
    "version": 3
   },
   "file_extension": ".py",
   "mimetype": "text/x-python",
   "name": "python",
   "nbconvert_exporter": "python",
   "pygments_lexer": "ipython3",
   "version": "3.7.4"
  },
  "toc": {
   "base_numbering": 1,
   "nav_menu": {},
   "number_sections": true,
   "sideBar": true,
   "skip_h1_title": false,
   "title_cell": "Table of Contents",
   "title_sidebar": "Contents",
   "toc_cell": false,
   "toc_position": {
    "height": "calc(100% - 180px)",
    "left": "10px",
    "top": "150px",
    "width": "214.492px"
   },
   "toc_section_display": true,
   "toc_window_display": true
  },
  "varInspector": {
   "cols": {
    "lenName": 16,
    "lenType": 16,
    "lenVar": 40
   },
   "kernels_config": {
    "python": {
     "delete_cmd_postfix": "",
     "delete_cmd_prefix": "del ",
     "library": "var_list.py",
     "varRefreshCmd": "print(var_dic_list())"
    },
    "r": {
     "delete_cmd_postfix": ") ",
     "delete_cmd_prefix": "rm(",
     "library": "var_list.r",
     "varRefreshCmd": "cat(var_dic_list()) "
    }
   },
   "types_to_exclude": [
    "module",
    "function",
    "builtin_function_or_method",
    "instance",
    "_Feature"
   ],
   "window_display": false
  }
 },
 "nbformat": 4,
 "nbformat_minor": 2
}
